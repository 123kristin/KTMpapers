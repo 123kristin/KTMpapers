{
 "cells": [
  {
   "cell_type": "code",
   "execution_count": 1,
   "metadata": {},
   "outputs": [],
   "source": [
    "import pandas as pd"
   ]
  },
  {
   "cell_type": "code",
   "execution_count": 2,
   "metadata": {},
   "outputs": [],
   "source": [
    "df = pd.read_excel('/Users/chenjiahao/Library/Mobile Documents/iCloud~md~obsidian/Documents/home/_resources/KT模型整理.xlsx')"
   ]
  },
  {
   "cell_type": "code",
   "execution_count": 3,
   "metadata": {
    "scrolled": true
   },
   "outputs": [],
   "source": [
    "df = df.sort_values(\"conference_year\",ascending=False)\n",
    "df = df.fillna(\"---\")"
   ]
  },
  {
   "cell_type": "code",
   "execution_count": 4,
   "metadata": {
    "scrolled": true
   },
   "outputs": [
    {
     "data": {
      "text/plain": [
       "Deep learning-based models    11\n",
       "Logistic models                3\n",
       "Other                          2\n",
       "Probabilistic models           2\n",
       "Survey                         1\n",
       "Name: category, dtype: int64"
      ]
     },
     "execution_count": 4,
     "metadata": {},
     "output_type": "execute_result"
    }
   ],
   "source": [
    "df['category'].value_counts()"
   ]
  },
  {
   "cell_type": "code",
   "execution_count": 5,
   "metadata": {},
   "outputs": [
    {
     "data": {
      "text/plain": [
       "True"
      ]
     },
     "execution_count": 5,
     "metadata": {},
     "output_type": "execute_result"
    }
   ],
   "source": [
    "\"Deep learning-based models\"==\"Deep learning-based models\""
   ]
  },
  {
   "cell_type": "code",
   "execution_count": 6,
   "metadata": {},
   "outputs": [],
   "source": [
    "normal_info = \"**{title}**. {author}. {conference_name} {conference_year}. [[pdf]({pdf})]\"\n",
    "add_code = \" [[code]({code})]\"\n",
    "add_slide = \" [[slide]({slide})]\"\n",
    "add_video = \" [[video]({video})]\"\n",
    "add_short_name = \" ({short_name})\""
   ]
  },
  {
   "cell_type": "code",
   "execution_count": 7,
   "metadata": {},
   "outputs": [],
   "source": [
    "def get_df_result(df):\n",
    "    lines = []\n",
    "    i = 0\n",
    "    for _, row in df.iterrows():\n",
    "        i+=1\n",
    "        line_format = normal_info\n",
    "        for key in ['code','slide','video','short_name']:\n",
    "            if row[key]!=\"---\":\n",
    "                line_format = line_format+eval(\"add_{}\".format(key))\n",
    "        line = \"{}. \".format(i) +line_format.format(**row.to_dict())\n",
    "        lines.append(line)\n",
    "    return lines"
   ]
  },
  {
   "cell_type": "code",
   "execution_count": 8,
   "metadata": {},
   "outputs": [],
   "source": [
    "category_list = [\"Survey\",\"Deep learning-based models\",\"Probabilistic models\",\"Logistic models\",\"Variants\",\"Other\",\"---\"]"
   ]
  },
  {
   "cell_type": "code",
   "execution_count": 9,
   "metadata": {},
   "outputs": [],
   "source": [
    "# category = \"Deep learning-based models\"\n",
    "# group = df[df['category']==category]\n",
    "# lines = get_df_result(group)\n",
    "# lines"
   ]
  },
  {
   "cell_type": "code",
   "execution_count": 10,
   "metadata": {
    "scrolled": false
   },
   "outputs": [
    {
     "name": "stdout",
     "output_type": "stream",
     "text": [
      "## Survey\n",
      "1. **A Survey of Knowledge Tracing**. Qi Liu, Shuanghong Shen, Zhenya Huang, Enhong Chen, Yonghe Zheng. Preprint 2021. [[pdf](https://arxiv.org/abs/2105.15106)]\n",
      "\n",
      "\n",
      "## Deep learning-based models\n",
      "1. **EKT: Exercise-aware Knowledge Tracing for Student Performance Prediction**. Liu, Qi and Huang, Zhenya and Yin, Yu and Chen, Enhong and Xiong, Hui and Su, Yu and Hu, Guoping. IEEE TKDE 2021. [[pdf](http://staff.ustc.edu.cn/~huangzhy/files/papers/ZhenyaHuang-TKDE2021.pdf)] [[code](https://github.com/bigdata-ustc/ekt)] [[slide](http://staff.ustc.edu.cn/~huangzhy/files/slides/ZhenyaHuang-TKDE-slide.pdf)] (EKT/EERNN)\n",
      "2. **Context-Aware Attentive Knowledge Tracing**. Aritra Ghosh, Neil Heffernan, Andrew S. Lan. KDD 2020. [[pdf](https://arxiv.org/pdf/2007.12324.pdf)] [[code](https://github.com/arghosh/AKT)] (AKT)\n",
      "3. **Learning or Forgetting? A Dynamic Approach for Tracking the Knowledge Proficiency of Students**. Huang, Zhenya and Liu, Qi and Chen, Yuying and Wu, Le and Xiao, Keli and Chen, Enhong and Ma, Haiping and Hu, Guoping. TOIS 2020. [[pdf](http://staff.ustc.edu.cn/~huangzhy/files/papers/ZhenyaHuang-TOIS2020.pdf)] [[code](https://github.com/bigdata-ustc/EduKTM)] [[slide](http://staff.ustc.edu.cn/~huangzhy/files/slides/ZhenyaHuang-TOIS-slide.pdf)] (EKPT/KPT)\n",
      "4. **Towards an Appropriate Query, Key, and Value Computation for Knowledge Tracing**. Youngduck Choi, Youngnam Lee, Junghyun Cho, Jineon Baek, Byungsoo Kim, Yeongmin Cha, Dongmin Shin, Chan Bae, Jaewe Heo. Preprint 2020. [[pdf](https://arxiv.org/pdf/2002.07033.pdf)] [[code](https://github.com/Shivanandmn/Knowledge-Tracing-SAINT)] (SAINT)\n",
      "5. **Convolutional Knowledge Tracing: Modeling Individualization in Student Learning Process**. Shuanghong Shen, Qi Liu, Enhong Chen, Han Wu, Zhenya Huang, Weihao Zhao, Yu Su, Haiping Ma, Shijin Wang. SIGIR 2020. [[pdf](http://staff.ustc.edu.cn/~huangzhy/files/papers/ShuanghongShen-SIGIR2020s.pdf)] [[code](https://github.com/shshen-closer/Convolutional-Knowledge-Tracing)] [[slide](http://staff.ustc.edu.cn/~huangzhy/files/slides/ShuanghongShen-SIGIR2020s-slide.pdf)] (CKT)\n",
      "6. **Structure-based Knowledge Tracing: An Influence Propagation View**. Shiwei Tong, Qi Liu, Wei Huang, Zhenya Huang, Enhong Chen, Chuanren Liu, Haiping Ma, Shijin Wang. ICDM 2020. [[pdf](http://staff.ustc.edu.cn/~huangzhy/files/papers/ShiweiTong-ICDM2020.pdf)] [[slide](http://staff.ustc.edu.cn/~huangzhy/files/slides/ShiweiTong-ICDM2020-slide.pdf)] (SKT)\n",
      "7. **A Self-Attentive model for Knowledge Tracing**. Shalini Pandey, George Karypis. EDM 2019. [[pdf](https://arxiv.org/pdf/1907.06837.pdf)] [[code](https://github.com/arshadshk/SAKT-pytorch)] (SAKT)\n",
      "8. **Addressing Two Problems in Deep Knowledge Tracing via Prediction-Consistent Regularization**. Chun-Kit Yeung,Dit-Yan Yeung. Preprint 2018. [[pdf](https://arxiv.org/pdf/1806.02180.pdf)] [[code](https://github.com/sulingling123/Knowledge_Tracing)] (DKT+)\n",
      "9. **Dynamic Key-Value Memory Networks for Knowledge Tracing**. Jiani Zhang, Xingjian Shi, Irwin King, Dit-Yan Yeung. WWW 2017. [[pdf](https://arxiv.org/abs/1611.08108)] [[code](https://github.com/jennyzhang0215/DKVMN)] (DKVMN)\n",
      "10. **Tracking Knowledge Proficiency of Students with Educational Priors**. Yuying Chen, Qi Liu, Zhenya Huang, Le Wu, Enhong Chen, Runze Wu, Yu Su, Guoping Hu. CKIM 2017. [[pdf](http://staff.ustc.edu.cn/~huangzhy/files/papers/YuyingChen-CIKM2017.pdf)] [[slide](http://staff.ustc.edu.cn/~huangzhy/files/slides/YuyingChen-CIKM2017-slide.pdf)]\n",
      "11. **Deep Knowledge Tracing**. Piech, Chris and Spencer, Jonathan and Huang, Jonathan and Ganguli, Surya and Sahami, Mehran and Guibas, Leonidas and Sohl-Dickstein, Jascha. NeurIPS 2015. [[pdf](http://stanford.edu/~cpiech/bio/papers/deepKnowledgeTracing.pdf)] [[code](https://github.com/mmkhajah/dkt)] (DKT)\n",
      "\n",
      "\n",
      "## Probabilistic models\n",
      "1. **Dynamic bayesian networks for student modeling**. Tanja Kaser, Severin Klingler, Alexander G Schwing, and MarkusGross. IEEE 2017. [[pdf](https://ieeexplore.ieee.org/document/7889018)] [[code](https://github.com/IEDMS/BNT-SM)] (BNT-SM)\n",
      "2. **Knowledge tracing:Modeling the acquisition of procedural knowledge**. Corbett, Albert T and Anderson, John R. UMUAI 1995. [[pdf](http://act-r.psy.cmu.edu/wordpress/wp-content/uploads/2012/12/893CorbettAnderson1995.pdf)] [[code](https://github.com/CAHLR/pyBKT)] (BKT)\n",
      "\n",
      "\n",
      "## Logistic models\n",
      "1. **Knowledge tracing machines: Factorization machines for knowledge tracing**. Vie, Jill-$J\\hat{e}$nn and Kashima, Hisashi. AAAI 2019. [[pdf](https://arxiv.org/pdf/1811.03388.pdf)] [[code](https://github.com/jilljenn/ktm)] [[slide](http://jiji.cat/slides/aaai2019-ktm-slides.pdf)]\n",
      "2. **Performance Factors Analysis--A New Alternative to Knowledge Tracing**. Pavlik Jr, Philip I and Cen, Hao and Koedinger, Kenneth R. Online Submission 2009. [[pdf](https://files.eric.ed.gov/fulltext/ED506305.pdf)]\n",
      "3. **Learning Factors Analysis – A General Method for Cognitive Model Evaluation and Improvement**. Hao Cen, Kenneth Koedinger, Brian Junker. ITS 2006. [[pdf](https://citeseerx.ist.psu.edu/viewdoc/download?doi=10.1.1.297.2141&rep=rep1&type=pdf)]\n",
      "\n",
      "\n",
      "## Other\n",
      "1. **Learning Process-consistent Knowledge Tracing**. Shuanghong Shen, Enhong Chen, Qi Liu, Zhenya Huang, Wei Huang, Yu Yin, Yu Su, Shijin Wang. KDD 2021. [[pdf](http://staff.ustc.edu.cn/~huangzhy/files/papers/ShuanghongShen-KDD2021.pdf)] [[code](https://github.com/bigdata-ustc/EduKTM)] [[slide](http://staff.ustc.edu.cn/~huangzhy/files/slides/ShuanghongShen-KDD2021-slide.pdf)] [[video](https://www.bilibili.com/video/BV1jg41157UX/)]\n",
      "2. **Federated Deep Knowledge Tracing**. Jinze Wu, Zhenya Huang, Qi Liu, Defu Lian, Hao Wang, Enhong Chen, Haiping Ma and Shijin Wang. WSDM 2021. [[pdf](http://staff.ustc.edu.cn/~huangzhy/files/papers/JinzeWu-WSDM2021.pdf)] [[slide](http://staff.ustc.edu.cn/~huangzhy/files/slides/JinzeWu-WSDM2021-slide.pdf)]\n",
      "\n",
      "\n",
      "## ---\n",
      "\n",
      "\n",
      "\n"
     ]
    }
   ],
   "source": [
    "for category in category_list:\n",
    "    group = df[df['category']==category]\n",
    "    lines = get_df_result(group)\n",
    "    print(\"## {}\".format(category))\n",
    "    print(\"\\n\".join(lines))\n",
    "    print(\"\\n\")"
   ]
  },
  {
   "cell_type": "code",
   "execution_count": null,
   "metadata": {},
   "outputs": [],
   "source": []
  },
  {
   "cell_type": "code",
   "execution_count": null,
   "metadata": {},
   "outputs": [],
   "source": []
  }
 ],
 "metadata": {
  "kernelspec": {
   "display_name": "Python 3",
   "language": "python",
   "name": "python3"
  },
  "language_info": {
   "codemirror_mode": {
    "name": "ipython",
    "version": 3
   },
   "file_extension": ".py",
   "mimetype": "text/x-python",
   "name": "python",
   "nbconvert_exporter": "python",
   "pygments_lexer": "ipython3",
   "version": "3.7.4"
  },
  "toc": {
   "base_numbering": 1,
   "nav_menu": {},
   "number_sections": true,
   "sideBar": true,
   "skip_h1_title": false,
   "title_cell": "Table of Contents",
   "title_sidebar": "Contents",
   "toc_cell": false,
   "toc_position": {},
   "toc_section_display": true,
   "toc_window_display": false
  }
 },
 "nbformat": 4,
 "nbformat_minor": 2
}
